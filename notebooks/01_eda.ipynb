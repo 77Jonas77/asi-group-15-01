{
 "cells": [
  {
   "cell_type": "markdown",
   "id": "9ad1511b",
   "metadata": {},
   "source": [
    "## Zaczynamy od zaimportowania potrzebnych rozszerzeń"
   ]
  },
  {
   "cell_type": "code",
   "execution_count": null,
   "id": "661a725a",
   "metadata": {},
   "outputs": [],
   "source": [
    "import pandas as pd\n",
    "import numpy as np"
   ]
  },
  {
   "cell_type": "markdown",
   "id": "62f8c8b5",
   "metadata": {},
   "source": [
    "## Importujemy dane z pliku"
   ]
  },
  {
   "cell_type": "code",
   "execution_count": 2,
   "id": "bd16386430216d9b",
   "metadata": {},
   "outputs": [],
   "source": [
    "df = pd.read_csv('../data/01_raw/data.csv', skipinitialspace=True)"
   ]
  },
  {
   "cell_type": "markdown",
   "id": "1c0aea46",
   "metadata": {},
   "source": [
    "## Podstawowe informacje"
   ]
  },
  {
   "cell_type": "code",
   "execution_count": 3,
   "id": "51e2ab58",
   "metadata": {},
   "outputs": [
    {
     "name": "stdout",
     "output_type": "stream",
     "text": [
      "Liczba wierszy: 500\n",
      "Liczba kolumn: 15\n",
      "\n",
      "Pierwsze 5 wierszy:\n"
     ]
    },
    {
     "data": {
      "text/html": [
       "<div>\n",
       "<style scoped>\n",
       "    .dataframe tbody tr th:only-of-type {\n",
       "        vertical-align: middle;\n",
       "    }\n",
       "\n",
       "    .dataframe tbody tr th {\n",
       "        vertical-align: top;\n",
       "    }\n",
       "\n",
       "    .dataframe thead th {\n",
       "        text-align: right;\n",
       "    }\n",
       "</style>\n",
       "<table border=\"1\" class=\"dataframe\">\n",
       "  <thead>\n",
       "    <tr style=\"text-align: right;\">\n",
       "      <th></th>\n",
       "      <th>age</th>\n",
       "      <th>workclass</th>\n",
       "      <th>fnlwgt</th>\n",
       "      <th>education</th>\n",
       "      <th>education-num</th>\n",
       "      <th>marital-status</th>\n",
       "      <th>occupation</th>\n",
       "      <th>relationship</th>\n",
       "      <th>race</th>\n",
       "      <th>sex</th>\n",
       "      <th>capital-gain</th>\n",
       "      <th>capital-loss</th>\n",
       "      <th>hours-per-week</th>\n",
       "      <th>native-country</th>\n",
       "      <th>income</th>\n",
       "    </tr>\n",
       "  </thead>\n",
       "  <tbody>\n",
       "    <tr>\n",
       "      <th>0</th>\n",
       "      <td>39</td>\n",
       "      <td>State-gov</td>\n",
       "      <td>77516</td>\n",
       "      <td>Bachelors</td>\n",
       "      <td>13</td>\n",
       "      <td>Never-married</td>\n",
       "      <td>Adm-clerical</td>\n",
       "      <td>Not-in-family</td>\n",
       "      <td>White</td>\n",
       "      <td>Male</td>\n",
       "      <td>2174</td>\n",
       "      <td>0</td>\n",
       "      <td>40</td>\n",
       "      <td>United-States</td>\n",
       "      <td>&lt;=50K</td>\n",
       "    </tr>\n",
       "    <tr>\n",
       "      <th>1</th>\n",
       "      <td>50</td>\n",
       "      <td>Self-emp-not-inc</td>\n",
       "      <td>83311</td>\n",
       "      <td>Bachelors</td>\n",
       "      <td>13</td>\n",
       "      <td>Married-civ-spouse</td>\n",
       "      <td>Exec-managerial</td>\n",
       "      <td>Husband</td>\n",
       "      <td>White</td>\n",
       "      <td>Male</td>\n",
       "      <td>0</td>\n",
       "      <td>0</td>\n",
       "      <td>13</td>\n",
       "      <td>United-States</td>\n",
       "      <td>&lt;=50K</td>\n",
       "    </tr>\n",
       "    <tr>\n",
       "      <th>2</th>\n",
       "      <td>38</td>\n",
       "      <td>Private</td>\n",
       "      <td>215646</td>\n",
       "      <td>HS-grad</td>\n",
       "      <td>9</td>\n",
       "      <td>Divorced</td>\n",
       "      <td>Handlers-cleaners</td>\n",
       "      <td>Not-in-family</td>\n",
       "      <td>White</td>\n",
       "      <td>Male</td>\n",
       "      <td>0</td>\n",
       "      <td>0</td>\n",
       "      <td>40</td>\n",
       "      <td>United-States</td>\n",
       "      <td>&lt;=50K</td>\n",
       "    </tr>\n",
       "    <tr>\n",
       "      <th>3</th>\n",
       "      <td>53</td>\n",
       "      <td>Private</td>\n",
       "      <td>234721</td>\n",
       "      <td>11th</td>\n",
       "      <td>7</td>\n",
       "      <td>Married-civ-spouse</td>\n",
       "      <td>Handlers-cleaners</td>\n",
       "      <td>Husband</td>\n",
       "      <td>Black</td>\n",
       "      <td>Male</td>\n",
       "      <td>0</td>\n",
       "      <td>0</td>\n",
       "      <td>40</td>\n",
       "      <td>United-States</td>\n",
       "      <td>&lt;=50K</td>\n",
       "    </tr>\n",
       "    <tr>\n",
       "      <th>4</th>\n",
       "      <td>28</td>\n",
       "      <td>Private</td>\n",
       "      <td>338409</td>\n",
       "      <td>Bachelors</td>\n",
       "      <td>13</td>\n",
       "      <td>Married-civ-spouse</td>\n",
       "      <td>Prof-specialty</td>\n",
       "      <td>Wife</td>\n",
       "      <td>Black</td>\n",
       "      <td>Female</td>\n",
       "      <td>0</td>\n",
       "      <td>0</td>\n",
       "      <td>40</td>\n",
       "      <td>Cuba</td>\n",
       "      <td>&lt;=50K</td>\n",
       "    </tr>\n",
       "  </tbody>\n",
       "</table>\n",
       "</div>"
      ],
      "text/plain": [
       "   age         workclass  fnlwgt  education  education-num  \\\n",
       "0   39         State-gov   77516  Bachelors             13   \n",
       "1   50  Self-emp-not-inc   83311  Bachelors             13   \n",
       "2   38           Private  215646    HS-grad              9   \n",
       "3   53           Private  234721       11th              7   \n",
       "4   28           Private  338409  Bachelors             13   \n",
       "\n",
       "       marital-status         occupation   relationship   race     sex  \\\n",
       "0       Never-married       Adm-clerical  Not-in-family  White    Male   \n",
       "1  Married-civ-spouse    Exec-managerial        Husband  White    Male   \n",
       "2            Divorced  Handlers-cleaners  Not-in-family  White    Male   \n",
       "3  Married-civ-spouse  Handlers-cleaners        Husband  Black    Male   \n",
       "4  Married-civ-spouse     Prof-specialty           Wife  Black  Female   \n",
       "\n",
       "   capital-gain  capital-loss  hours-per-week native-country income  \n",
       "0          2174             0              40  United-States  <=50K  \n",
       "1             0             0              13  United-States  <=50K  \n",
       "2             0             0              40  United-States  <=50K  \n",
       "3             0             0              40  United-States  <=50K  \n",
       "4             0             0              40           Cuba  <=50K  "
      ]
     },
     "execution_count": 3,
     "metadata": {},
     "output_type": "execute_result"
    }
   ],
   "source": [
    "print(f\"Liczba wierszy: {df.shape[0]}\")\n",
    "print(f\"Liczba kolumn: {df.shape[1]}\")\n",
    "print(\"\\nPierwsze 5 wierszy:\")\n",
    "df.head()"
   ]
  },
  {
   "cell_type": "markdown",
   "id": "805d9cef-361f-41f5-8651-00539e49a01c",
   "metadata": {},
   "source": [
    "## Informacje o typach danych w poszczególnych kolumnach\n",
    "Jak możemy zobaczy, to z pozoru nie ma w tym zestawie danych żadnych wartości null, aczkolwiek to nie prawda. Takie wartości są w nim jak najbardziej obecne, oznaczone są jednak poprzez `?`."
   ]
  },
  {
   "cell_type": "code",
   "execution_count": 4,
   "id": "6c93c375-11bb-44b0-84bd-dae6d7b7f720",
   "metadata": {},
   "outputs": [
    {
     "name": "stdout",
     "output_type": "stream",
     "text": [
      "<class 'pandas.core.frame.DataFrame'>\n",
      "RangeIndex: 500 entries, 0 to 499\n",
      "Data columns (total 15 columns):\n",
      " #   Column          Non-Null Count  Dtype \n",
      "---  ------          --------------  ----- \n",
      " 0   age             500 non-null    int64 \n",
      " 1   workclass       500 non-null    object\n",
      " 2   fnlwgt          500 non-null    int64 \n",
      " 3   education       500 non-null    object\n",
      " 4   education-num   500 non-null    int64 \n",
      " 5   marital-status  500 non-null    object\n",
      " 6   occupation      500 non-null    object\n",
      " 7   relationship    500 non-null    object\n",
      " 8   race            500 non-null    object\n",
      " 9   sex             500 non-null    object\n",
      " 10  capital-gain    500 non-null    int64 \n",
      " 11  capital-loss    500 non-null    int64 \n",
      " 12  hours-per-week  500 non-null    int64 \n",
      " 13  native-country  500 non-null    object\n",
      " 14  income          500 non-null    object\n",
      "dtypes: int64(6), object(9)\n",
      "memory usage: 58.7+ KB\n"
     ]
    }
   ],
   "source": [
    "df.info()"
   ]
  },
  {
   "cell_type": "markdown",
   "id": "68965017-5b3c-40e7-a259-84ecab7538a3",
   "metadata": {},
   "source": [
    "## Zastąpienie `?` na wartości `null`\n",
    "Po zmianie zobaczyć możemy faktyczną ilość brakujących danych"
   ]
  },
  {
   "cell_type": "code",
   "execution_count": 5,
   "id": "7de56fbd-ec4f-4f78-9be8-530d55ae8ce4",
   "metadata": {},
   "outputs": [
    {
     "name": "stdout",
     "output_type": "stream",
     "text": [
      "Wiersze z brakującymi danymi: 39\n",
      "\n",
      "<class 'pandas.core.frame.DataFrame'>\n",
      "RangeIndex: 500 entries, 0 to 499\n",
      "Data columns (total 15 columns):\n",
      " #   Column          Non-Null Count  Dtype \n",
      "---  ------          --------------  ----- \n",
      " 0   age             500 non-null    int64 \n",
      " 1   workclass       469 non-null    object\n",
      " 2   fnlwgt          500 non-null    int64 \n",
      " 3   education       500 non-null    object\n",
      " 4   education-num   500 non-null    int64 \n",
      " 5   marital-status  500 non-null    object\n",
      " 6   occupation      469 non-null    object\n",
      " 7   relationship    500 non-null    object\n",
      " 8   race            500 non-null    object\n",
      " 9   sex             500 non-null    object\n",
      " 10  capital-gain    500 non-null    int64 \n",
      " 11  capital-loss    500 non-null    int64 \n",
      " 12  hours-per-week  500 non-null    int64 \n",
      " 13  native-country  490 non-null    object\n",
      " 14  income          500 non-null    object\n",
      "dtypes: int64(6), object(9)\n",
      "memory usage: 58.7+ KB\n"
     ]
    }
   ],
   "source": [
    "df = df.replace('?', np.nan)\n",
    "\n",
    "# Print basic info\n",
    "row_with_missing_data = df.isnull().any(axis = 1).sum()\n",
    "print(f'Wiersze z brakującymi danymi: {row_with_missing_data}\\n')\n",
    "df.info()"
   ]
  },
  {
   "cell_type": "markdown",
   "id": "bc3664f3-6cbe-4dc7-b3ea-761d8c10f006",
   "metadata": {},
   "source": [
    "## Oczyszczanie danych\n",
    "W celu oczyszczenia zbioru danych z brakujących danych możemy usunąć wiersze posiadające takie braki."
   ]
  },
  {
   "cell_type": "code",
   "execution_count": 6,
   "id": "6a4fc7c6-219f-4319-801a-f81423da38bc",
   "metadata": {},
   "outputs": [
    {
     "name": "stdout",
     "output_type": "stream",
     "text": [
      "Usunięto 39 wierszy.\n",
      "\n",
      "<class 'pandas.core.frame.DataFrame'>\n",
      "Index: 461 entries, 0 to 498\n",
      "Data columns (total 15 columns):\n",
      " #   Column          Non-Null Count  Dtype \n",
      "---  ------          --------------  ----- \n",
      " 0   age             461 non-null    int64 \n",
      " 1   workclass       461 non-null    object\n",
      " 2   fnlwgt          461 non-null    int64 \n",
      " 3   education       461 non-null    object\n",
      " 4   education-num   461 non-null    int64 \n",
      " 5   marital-status  461 non-null    object\n",
      " 6   occupation      461 non-null    object\n",
      " 7   relationship    461 non-null    object\n",
      " 8   race            461 non-null    object\n",
      " 9   sex             461 non-null    object\n",
      " 10  capital-gain    461 non-null    int64 \n",
      " 11  capital-loss    461 non-null    int64 \n",
      " 12  hours-per-week  461 non-null    int64 \n",
      " 13  native-country  461 non-null    object\n",
      " 14  income          461 non-null    object\n",
      "dtypes: int64(6), object(9)\n",
      "memory usage: 57.6+ KB\n"
     ]
    }
   ],
   "source": [
    "df_cleaned = df.dropna()\n",
    "\n",
    "removed_rows = len(df) - len(df_cleaned)\n",
    "print(f'Usunięto {removed_rows} wierszy.\\n')\n",
    "\n",
    "df_cleaned.info()"
   ]
  }
 ],
 "metadata": {
  "kernelspec": {
   "display_name": "Python (asi-ml)",
   "language": "python",
   "name": "asi-ml"
  },
  "language_info": {
   "codemirror_mode": {
    "name": "ipython",
    "version": 3
   },
   "file_extension": ".py",
   "mimetype": "text/x-python",
   "name": "python",
   "nbconvert_exporter": "python",
   "pygments_lexer": "ipython3",
   "version": "3.11.14"
  }
 },
 "nbformat": 4,
 "nbformat_minor": 5
}
